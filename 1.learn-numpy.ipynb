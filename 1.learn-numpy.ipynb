{
 "cells": [
  {
   "cell_type": "markdown",
   "source": [
    "# 安装 pytorch 和 jupyter-book"
   ],
   "metadata": {
    "collapsed": false
   },
   "id": "dce9fb9e6902d5fa"
  },
  {
   "cell_type": "code",
   "execution_count": null,
   "outputs": [],
   "source": [
    "# !conda install pytorch==2.0.0 torchvision==0.15.0 torchaudio==2.0.0 pytorch-cuda=11.8 -c pytorch -c nvidia"
   ],
   "metadata": {
    "collapsed": false
   },
   "id": "initial_id"
  },
  {
   "cell_type": "code",
   "execution_count": null,
   "outputs": [],
   "source": [
    "# !pip install jupyter"
   ],
   "metadata": {
    "collapsed": false
   },
   "id": "cde05fb3fc960554"
  },
  {
   "cell_type": "markdown",
   "source": [
    "# 查看Pytorch版本，查看Pytorch是否支持GPU运算。"
   ],
   "metadata": {
    "collapsed": false
   },
   "id": "f981c04972579ff8"
  },
  {
   "cell_type": "code",
   "execution_count": 1,
   "outputs": [
    {
     "name": "stdout",
     "output_type": "stream",
     "text": [
      "2.0.0\n",
      "True\n"
     ]
    }
   ],
   "source": [
    "import torch\n",
    "\n",
    "print(torch.__version__)\n",
    "print(torch.cuda.is_available())"
   ],
   "metadata": {
    "collapsed": false,
    "ExecuteTime": {
     "end_time": "2023-09-18T14:16:16.869726400Z",
     "start_time": "2023-09-18T14:16:13.760917100Z"
    }
   },
   "id": "ec1483beefe71510"
  },
  {
   "cell_type": "markdown",
   "source": [
    "# 检查NumPy版本"
   ],
   "metadata": {
    "collapsed": false
   },
   "id": "60227217621dd5ee"
  },
  {
   "cell_type": "code",
   "execution_count": 2,
   "outputs": [
    {
     "name": "stdout",
     "output_type": "stream",
     "text": [
      "1.24.3\n"
     ]
    }
   ],
   "source": [
    "import numpy as np\n",
    "\n",
    "print(np.__version__)"
   ],
   "metadata": {
    "collapsed": false,
    "ExecuteTime": {
     "end_time": "2023-09-18T14:16:39.431333800Z",
     "start_time": "2023-09-18T14:16:39.418382600Z"
    }
   },
   "id": "b805e834e8e55ffc"
  },
  {
   "cell_type": "markdown",
   "source": [
    "# numpy.array应用举例"
   ],
   "metadata": {
    "collapsed": false
   },
   "id": "bd68d7dc17e366bf"
  },
  {
   "cell_type": "code",
   "execution_count": 3,
   "outputs": [
    {
     "name": "stdout",
     "output_type": "stream",
     "text": [
      "[4 5 6 7]\n",
      "********************\n",
      "[[7 2]\n",
      " [9 4]]\n",
      "********************\n",
      "[[91 72 63 74  5]]\n",
      "********************\n",
      "[15.+0.j 26.+0.j 38.+0.j]\n"
     ]
    }
   ],
   "source": [
    "import numpy as np\n",
    "\n",
    "a = np.array([4, 5, 6, 7])\n",
    "print(a)\n",
    "print('*' * 20)\n",
    "# 多于一个维度\n",
    "b = np.array([[7, 2], [9, 4]])\n",
    "print(b)\n",
    "print('*' * 20)\n",
    "# 最小维度\n",
    "c = np.array([91, 72, 63, 74, 5], ndmin=2)\n",
    "print(c)\n",
    "print('*' * 20)\n",
    "# dtype 参数\n",
    "d = np.array([15, 26, 38], dtype=complex)\n",
    "print(d)"
   ],
   "metadata": {
    "collapsed": false,
    "ExecuteTime": {
     "end_time": "2023-09-18T14:17:51.579354600Z",
     "start_time": "2023-09-18T14:17:51.565353500Z"
    }
   },
   "id": "56cb5c6f2b50b9c6"
  },
  {
   "cell_type": "markdown",
   "source": [
    "# numpy数据类型应用举例"
   ],
   "metadata": {
    "collapsed": false
   },
   "id": "54f0cb1226298d17"
  },
  {
   "cell_type": "code",
   "execution_count": 4,
   "outputs": [
    {
     "name": "stdout",
     "output_type": "stream",
     "text": [
      "int32\n",
      "**********\n",
      "int32\n",
      "**********\n",
      "int32\n",
      "**********\n",
      "[('age', 'i1')]\n",
      "**********\n",
      "[(10,) (20,) (30,)]\n",
      "**********\n",
      "[10 20 30]\n",
      "**********\n",
      "[('name', 'S20'), ('age', 'i1'), ('marks', '<f4')]\n",
      "**********\n",
      "[(b'abc', 21, 50.) (b'xyz', 18, 75.)]\n"
     ]
    }
   ],
   "source": [
    "import numpy as np\n",
    "\n",
    "# 使用标量类型\n",
    "dt = np.dtype(np.int32)\n",
    "print(dt)\n",
    "print('*' * 10)\n",
    "# int8, int16, int32, int64 四种数据类型可以使用字符串 'i1', 'i2','i4','i8' 代替\n",
    "s2 = np.dtype('i4')\n",
    "print(s2)\n",
    "print('*' * 10)\n",
    "# 字节顺序标注\n",
    "s3 = np.dtype('<i4')\n",
    "print(s3)\n",
    "print('*' * 10)\n",
    "# 首先创建结构化数据类型\n",
    "s4 = np.dtype([('age', np.int8)])\n",
    "print(s4)\n",
    "print('*' * 10)\n",
    "# 将数据类型应用于ndarray对象\n",
    "w = np.dtype([('age', np.int8)])\n",
    "s5 = np.array([(10,), (20,), (30,)], dtype=w)\n",
    "print(s5)\n",
    "print('*' * 10)\n",
    "# 类型字段名可以用于存取实际的 age 列\n",
    "y = np.dtype([('age', np.int8)])\n",
    "s6 = np.array([(10,), (20,), (30,)], dtype=y)\n",
    "print(s6['age'])\n",
    "print('*' * 10)\n",
    "student = np.dtype([('name', 'S20'), ('age', 'i1'), ('marks', 'f4')])\n",
    "print(student)\n",
    "print('*' * 10)\n",
    "student = np.dtype([('name', 'S20'), ('age', 'i1'), ('marks', 'f4')])\n",
    "s8 = np.array([('abc', 21, 50), ('xyz', 18, 75)], dtype=student)\n",
    "print(s8)"
   ],
   "metadata": {
    "collapsed": false,
    "ExecuteTime": {
     "end_time": "2023-09-18T14:18:35.663735800Z",
     "start_time": "2023-09-18T14:18:35.632994500Z"
    }
   },
   "id": "2debfa63b791836a"
  },
  {
   "cell_type": "markdown",
   "source": [
    "# numpy.empty创建空数组"
   ],
   "metadata": {
    "collapsed": false
   },
   "id": "38198e69865d74c6"
  },
  {
   "cell_type": "code",
   "execution_count": 5,
   "outputs": [
    {
     "name": "stdout",
     "output_type": "stream",
     "text": [
      "[[-1043707352         451          64           0           0           0]\n",
      " [          0           0           0         451  1697998387  1714905955]\n",
      " [ 1697789751   808990306   875900984  1714578745   909730613   825779765]\n",
      " [  909456695  1664693046   959657266  1701066081  1697669475   962869045]]\n"
     ]
    }
   ],
   "source": [
    "import numpy as np\n",
    "\n",
    "s = np.empty([4, 6], dtype=int)\n",
    "print(s)"
   ],
   "metadata": {
    "collapsed": false,
    "ExecuteTime": {
     "end_time": "2023-09-18T14:18:53.737569Z",
     "start_time": "2023-09-18T14:18:53.724555500Z"
    }
   },
   "id": "7d21e9ad3d680b25"
  },
  {
   "cell_type": "markdown",
   "source": [
    "# numpy.zeros应用举例说明"
   ],
   "metadata": {
    "collapsed": false
   },
   "id": "4ba327097e90567c"
  },
  {
   "cell_type": "code",
   "execution_count": 7,
   "outputs": [
    {
     "name": "stdout",
     "output_type": "stream",
     "text": [
      "[0. 0. 0. 0. 0.]\n",
      "[0 0 0 0 0]\n",
      "[[(0, 0) (0, 0)]\n",
      " [(0, 0) (0, 0)]]\n"
     ]
    }
   ],
   "source": [
    "import numpy as np\n",
    "\n",
    "# 默认为浮点数\n",
    "x = np.zeros(5)\n",
    "print(x)\n",
    "# 设置类型为整数\n",
    "y = np.zeros((5,), dtype=np.int32)\n",
    "print(y)\n",
    "# 自定义类型\n",
    "z = np.zeros((2, 2), dtype=[('x', 'i4'), ('y', 'i4')])\n",
    "print(z)"
   ],
   "metadata": {
    "collapsed": false,
    "ExecuteTime": {
     "end_time": "2023-09-18T14:20:12.203091100Z",
     "start_time": "2023-09-18T14:20:12.194085100Z"
    }
   },
   "id": "2662f06b8c0ac957"
  },
  {
   "cell_type": "markdown",
   "source": [
    "# numpy.ones应用举例说明"
   ],
   "metadata": {
    "collapsed": false
   },
   "id": "9b7460e6f8501970"
  },
  {
   "cell_type": "code",
   "execution_count": 8,
   "outputs": [
    {
     "name": "stdout",
     "output_type": "stream",
     "text": [
      "[1. 1. 1. 1. 1.]\n",
      "**********\n",
      "[[1 1 1]\n",
      " [1 1 1]\n",
      " [1 1 1]]\n"
     ]
    }
   ],
   "source": [
    "import numpy as np\n",
    "\n",
    "# 默认为浮点数\n",
    "x = np.ones(5)\n",
    "print(x)\n",
    "print('*' * 10)\n",
    "# 自定义类型\n",
    "x = np.ones([3, 3], dtype=int)\n",
    "print(x)"
   ],
   "metadata": {
    "collapsed": false,
    "ExecuteTime": {
     "end_time": "2023-09-18T14:21:15.145029300Z",
     "start_time": "2023-09-18T14:21:15.127743900Z"
    }
   },
   "id": "ff5002a1f63666f9"
  },
  {
   "cell_type": "markdown",
   "source": [
    "# 将列表转换为ndarray"
   ],
   "metadata": {
    "collapsed": false
   },
   "id": "cec6313488ace2d7"
  },
  {
   "cell_type": "code",
   "execution_count": 9,
   "outputs": [
    {
     "name": "stdout",
     "output_type": "stream",
     "text": [
      "[    4     5     6 10000]\n"
     ]
    }
   ],
   "source": [
    "import numpy as np\n",
    "\n",
    "x = [4, 5, 6, 10000]\n",
    "a = np.asarray(x)\n",
    "print(a)"
   ],
   "metadata": {
    "collapsed": false,
    "ExecuteTime": {
     "end_time": "2023-09-18T14:21:36.625808500Z",
     "start_time": "2023-09-18T14:21:36.614800500Z"
    }
   },
   "id": "85ad636b2d6e5112"
  },
  {
   "cell_type": "markdown",
   "source": [
    "# 将元组转换为ndarray"
   ],
   "metadata": {
    "collapsed": false
   },
   "id": "f302a5e4f8a81994"
  },
  {
   "cell_type": "code",
   "execution_count": 10,
   "outputs": [
    {
     "name": "stdout",
     "output_type": "stream",
     "text": [
      "[   100   2000 300000]\n"
     ]
    }
   ],
   "source": [
    "import numpy as np\n",
    "\n",
    "x = (100, 2000, 300000)\n",
    "a = np.asarray(x)\n",
    "print(a)"
   ],
   "metadata": {
    "collapsed": false,
    "ExecuteTime": {
     "end_time": "2023-09-18T14:21:53.841517300Z",
     "start_time": "2023-09-18T14:21:53.827521100Z"
    }
   },
   "id": "9a7d44436297b9b5"
  },
  {
   "cell_type": "markdown",
   "source": [
    "# 元组列表转换为ndarray"
   ],
   "metadata": {
    "collapsed": false
   },
   "id": "4a09a97bafa011f7"
  },
  {
   "cell_type": "code",
   "execution_count": 14,
   "outputs": [
    {
     "name": "stdout",
     "output_type": "stream",
     "text": [
      "[[1 2 3]\n",
      " [4 5 6]]\n",
      "**********\n",
      "[1. 2. 3.]\n"
     ]
    }
   ],
   "source": [
    "import numpy as np\n",
    "\n",
    "x = [(1, 2, 3), (4, 5, 6)]\n",
    "a = np.asarray(x)\n",
    "print(a)\n",
    "print('*' * 10)\n",
    "# 设置了dtype参数\n",
    "y = [1, 2, 3]\n",
    "b = np.asarray(y, dtype=float)\n",
    "print(b)"
   ],
   "metadata": {
    "collapsed": false,
    "ExecuteTime": {
     "end_time": "2023-09-18T14:23:10.333708900Z",
     "start_time": "2023-09-18T14:23:10.323163700Z"
    }
   },
   "id": "4103441d373b5dfc"
  },
  {
   "cell_type": "markdown",
   "source": [
    "# numpy.frombuffer应用实例"
   ],
   "metadata": {
    "collapsed": false
   },
   "id": "e3af3b042673e5d0"
  },
  {
   "cell_type": "code",
   "execution_count": 15,
   "outputs": [
    {
     "name": "stdout",
     "output_type": "stream",
     "text": [
      "[b'H' b'e' b'l' b'l' b'o' b' ' b'W' b'o' b'r' b'l' b'd']\n"
     ]
    }
   ],
   "source": [
    "import numpy as np\n",
    "\n",
    "s = b'Hello World'\n",
    "a = np.frombuffer(s, dtype='S1')\n",
    "print(a)"
   ],
   "metadata": {
    "collapsed": false,
    "ExecuteTime": {
     "end_time": "2023-09-18T14:24:07.052063900Z",
     "start_time": "2023-09-18T14:24:07.043063100Z"
    }
   },
   "id": "a3b837c6e580b22a"
  },
  {
   "cell_type": "markdown",
   "source": [
    "# numpy. fromiter应用实例"
   ],
   "metadata": {
    "collapsed": false
   },
   "id": "916a2b7c9dbee44e"
  },
  {
   "cell_type": "code",
   "execution_count": 16,
   "outputs": [
    {
     "name": "stdout",
     "output_type": "stream",
     "text": [
      "[0. 1. 2. 3. 4. 5. 6. 7. 8. 9.]\n"
     ]
    }
   ],
   "source": [
    "import numpy as np\n",
    "\n",
    "# 使用 range 函数创建列表对象\n",
    "list = range(10)\n",
    "it = iter(list)\n",
    "# 使用迭代器创建 ndarray\n",
    "x = np.fromiter(it, dtype=float)\n",
    "print(x)"
   ],
   "metadata": {
    "collapsed": false,
    "ExecuteTime": {
     "end_time": "2023-09-18T14:24:25.697743200Z",
     "start_time": "2023-09-18T14:24:25.688919800Z"
    }
   },
   "id": "13f40c920bf29a1a"
  },
  {
   "cell_type": "markdown",
   "source": [
    "# numpy加减乘除应用举例"
   ],
   "metadata": {
    "collapsed": false
   },
   "id": "f1cf3fa25e102e5c"
  },
  {
   "cell_type": "code",
   "execution_count": 17,
   "outputs": [
    {
     "name": "stdout",
     "output_type": "stream",
     "text": [
      "第一个数组：\n",
      "[[ 0.  3.  6.]\n",
      " [ 9. 12. 15.]\n",
      " [18. 21. 24.]]\n",
      "********************\n",
      "第二个数组：\n",
      "[3 6 9]\n",
      "********************\n",
      "两个数组相加：\n",
      "[[ 3.  9. 15.]\n",
      " [12. 18. 24.]\n",
      " [21. 27. 33.]]\n",
      "********************\n",
      "两个数组相减：\n",
      "[[-3. -3. -3.]\n",
      " [ 6.  6.  6.]\n",
      " [15. 15. 15.]]\n",
      "********************\n",
      "两个数组相乘：\n",
      "[[  0.  18.  54.]\n",
      " [ 27.  72. 135.]\n",
      " [ 54. 126. 216.]]\n",
      "********************\n",
      "两个数组相除：\n",
      "[[0.         0.5        0.66666667]\n",
      " [3.         2.         1.66666667]\n",
      " [6.         3.5        2.66666667]]\n"
     ]
    }
   ],
   "source": [
    "import numpy as np\n",
    "\n",
    "a = np.arange(0, 27, 3, dtype=np.float_).reshape(3, 3)\n",
    "print('第一个数组：')\n",
    "print(a)\n",
    "print('*' * 20)\n",
    "print('第二个数组：')\n",
    "b = np.array([3, 6, 9])\n",
    "print(b)\n",
    "print('*' * 20)\n",
    "print('两个数组相加：')\n",
    "print(np.add(a, b))\n",
    "print('*' * 20)\n",
    "print('两个数组相减：')\n",
    "print(np.subtract(a, b))\n",
    "print('*' * 20)\n",
    "print('两个数组相乘：')\n",
    "print(np.multiply(a, b))\n",
    "print('*' * 20)\n",
    "print('两个数组相除：')\n",
    "print(np.divide(a, b))"
   ],
   "metadata": {
    "collapsed": false,
    "ExecuteTime": {
     "end_time": "2023-09-18T14:24:44.611974Z",
     "start_time": "2023-09-18T14:24:44.603731500Z"
    }
   },
   "id": "a7c3dbeeb6d82c05"
  },
  {
   "cell_type": "markdown",
   "source": [
    "# numpy.reciprocal()应用举例"
   ],
   "metadata": {
    "collapsed": false
   },
   "id": "25310e706380946"
  },
  {
   "cell_type": "code",
   "execution_count": 18,
   "outputs": [
    {
     "name": "stdout",
     "output_type": "stream",
     "text": [
      "原数组是：\n",
      "[8.88e+02 1.00e+03 2.00e+01 1.00e-01]\n",
      "********************\n",
      "调用reciprocal函数：\n",
      "[1.12612613e-03 1.00000000e-03 5.00000000e-02 1.00000000e+01]\n"
     ]
    }
   ],
   "source": [
    "import numpy as np\n",
    "\n",
    "s = np.array([888, 1000, 20, 0.1])\n",
    "print('原数组是：')\n",
    "print(s)\n",
    "print('*' * 20)\n",
    "print('调用reciprocal函数：')\n",
    "print(np.reciprocal(s))"
   ],
   "metadata": {
    "collapsed": false,
    "ExecuteTime": {
     "end_time": "2023-09-18T14:25:16.079895100Z",
     "start_time": "2023-09-18T14:25:16.065896800Z"
    }
   },
   "id": "617eaeab597bd6a4"
  },
  {
   "cell_type": "markdown",
   "source": [
    "# numpy.power()函数应用举例"
   ],
   "metadata": {
    "collapsed": false
   },
   "id": "a54d1c9804742fe6"
  },
  {
   "cell_type": "code",
   "execution_count": 19,
   "outputs": [
    {
     "name": "stdout",
     "output_type": "stream",
     "text": [
      "原数组是；\n",
      "[2 4 8]\n",
      "********************\n",
      "调用power函数：\n",
      "[ 4 16 64]\n",
      "********************\n",
      "power之后数组：\n",
      "[1 2 3]\n",
      "********************\n",
      "再次调用power函数：\n",
      "[  2  16 512]\n"
     ]
    }
   ],
   "source": [
    "import numpy as np\n",
    "\n",
    "s = np.array([2, 4, 8])\n",
    "print('原数组是；')\n",
    "print(s)\n",
    "print('*' * 20)\n",
    "print('调用power函数：')\n",
    "print(np.power(s, 2))\n",
    "print('*' * 20)\n",
    "print('power之后数组：')\n",
    "w = np.array([1, 2, 3])\n",
    "print(w)\n",
    "print('*' * 20)\n",
    "print('再次调用power函数：')\n",
    "print(np.power(s, w))"
   ],
   "metadata": {
    "collapsed": false,
    "ExecuteTime": {
     "end_time": "2023-09-18T14:25:33.048540300Z",
     "start_time": "2023-09-18T14:25:33.039541600Z"
    }
   },
   "id": "a7f537507dbc0078"
  },
  {
   "cell_type": "markdown",
   "source": [
    "# numpy.mod()应用举例"
   ],
   "metadata": {
    "collapsed": false
   },
   "id": "ba540a46e76637"
  },
  {
   "cell_type": "code",
   "execution_count": 20,
   "outputs": [
    {
     "name": "stdout",
     "output_type": "stream",
     "text": [
      "第一个数组：\n",
      "[3 6 9]\n",
      "********************\n",
      "第二个数组：\n",
      "[2 4 8]\n",
      "********************\n",
      "调用mod()函数：\n",
      "[1 2 1]\n",
      "********************\n",
      "调用remainder()函数：\n",
      "[1 2 1]\n"
     ]
    }
   ],
   "source": [
    "import numpy as np\n",
    "\n",
    "s = np.array([3, 6, 9])\n",
    "w = np.array([2, 4, 8])\n",
    "print('第一个数组：')\n",
    "print(s)\n",
    "print('*' * 20)\n",
    "print('第二个数组：')\n",
    "print(w)\n",
    "print('*' * 20)\n",
    "print('调用mod()函数：')\n",
    "print(np.mod(s, w))\n",
    "print('*' * 20)\n",
    "print('调用remainder()函数：')\n",
    "print(np.remainder(s, w))"
   ],
   "metadata": {
    "collapsed": false,
    "ExecuteTime": {
     "end_time": "2023-09-18T14:25:49.808764300Z",
     "start_time": "2023-09-18T14:25:49.794764400Z"
    }
   },
   "id": "4cc4e75e868cac9c"
  },
  {
   "cell_type": "markdown",
   "source": [
    "# numpy三角函数应用举例"
   ],
   "metadata": {
    "collapsed": false
   },
   "id": "67f705527e17189d"
  },
  {
   "cell_type": "code",
   "execution_count": 21,
   "outputs": [
    {
     "name": "stdout",
     "output_type": "stream",
     "text": [
      "不同角度的正弦值：\n",
      "[0.         0.5        0.70710678 0.8660254  1.        ]\n",
      "********************\n",
      "数组中角度的余弦值：\n",
      "[1.00000000e+00 8.66025404e-01 7.07106781e-01 5.00000000e-01\n",
      " 6.12323400e-17]\n",
      "********************\n",
      "数组中角度的正切值：\n",
      "[0.00000000e+00 5.77350269e-01 1.00000000e+00 1.73205081e+00\n",
      " 1.63312394e+16]\n"
     ]
    }
   ],
   "source": [
    "import numpy as np\n",
    "\n",
    "a = np.array([0, 30, 45, 60, 90])\n",
    "print('不同角度的正弦值：')\n",
    "# 通过乘 pi/180 转化为弧度\n",
    "print(np.sin(a * np.pi / 180))\n",
    "print('*' * 20)\n",
    "print('数组中角度的余弦值：')\n",
    "print(np.cos(a * np.pi / 180))\n",
    "print('*' * 20)\n",
    "print('数组中角度的正切值：')\n",
    "print(np.tan(a * np.pi / 180))"
   ],
   "metadata": {
    "collapsed": false,
    "ExecuteTime": {
     "end_time": "2023-09-18T14:26:08.098732900Z",
     "start_time": "2023-09-18T14:26:08.087733300Z"
    }
   },
   "id": "4be3afa245ed4e6b"
  },
  {
   "cell_type": "markdown",
   "source": [
    "# arcsin，arccos，和arctan函数应用举例"
   ],
   "metadata": {
    "collapsed": false
   },
   "id": "fa30c413249ba595"
  },
  {
   "cell_type": "code",
   "execution_count": 22,
   "outputs": [
    {
     "name": "stdout",
     "output_type": "stream",
     "text": [
      "含有正弦值的数组：\n",
      "[0.         0.5        0.70710678 0.8660254  1.        ]\n",
      "********************\n",
      "计算角度的反正弦，返回值以弧度为单位：\n",
      "[0.         0.52359878 0.78539816 1.04719755 1.57079633]\n",
      "********************\n",
      "通过转化为角度制来检查结果：\n",
      "[ 0. 30. 45. 60. 90.]\n",
      "********************\n",
      "arccos 和 arctan 函数行为类似：\n",
      "[1.00000000e+00 8.66025404e-01 7.07106781e-01 5.00000000e-01\n",
      " 6.12323400e-17]\n",
      "********************\n",
      "反余弦：\n",
      "[0.         0.52359878 0.78539816 1.04719755 1.57079633]\n",
      "********************\n",
      "角度制单位：\n",
      "[ 0. 30. 45. 60. 90.]\n",
      "********************\n",
      "tan 函数：\n",
      "[0.00000000e+00 5.77350269e-01 1.00000000e+00 1.73205081e+00\n",
      " 1.63312394e+16]\n",
      "********************\n",
      "反正切：\n",
      "[0.         0.52359878 0.78539816 1.04719755 1.57079633]\n",
      "********************\n",
      "角度制单位：\n",
      "[ 0. 30. 45. 60. 90.]\n"
     ]
    }
   ],
   "source": [
    "import numpy as np\n",
    "\n",
    "a = np.array([0, 30, 45, 60, 90])\n",
    "print('含有正弦值的数组：')\n",
    "sin = np.sin(a * np.pi / 180)\n",
    "print(sin)\n",
    "print('*' * 20)\n",
    "print('计算角度的反正弦，返回值以弧度为单位：')\n",
    "inv = np.arcsin(sin)\n",
    "print(inv)\n",
    "print('*' * 20)\n",
    "print('通过转化为角度制来检查结果：')\n",
    "print(np.degrees(inv))\n",
    "print('*' * 20)\n",
    "print('arccos 和 arctan 函数行为类似：')\n",
    "cos = np.cos(a * np.pi / 180)\n",
    "print(cos)\n",
    "print('*' * 20)\n",
    "print('反余弦：')\n",
    "inv = np.arccos(cos)\n",
    "print(inv)\n",
    "print('*' * 20)\n",
    "print('角度制单位：')\n",
    "print(np.degrees(inv))\n",
    "print('*' * 20)\n",
    "print('tan 函数：')\n",
    "tan = np.tan(a * np.pi / 180)\n",
    "print(tan)\n",
    "print('*' * 20)\n",
    "print('反正切：')\n",
    "inv = np.arctan(tan)\n",
    "print(inv)\n",
    "print('*' * 20)\n",
    "print('角度制单位：')\n",
    "print(np.degrees(inv))"
   ],
   "metadata": {
    "collapsed": false,
    "ExecuteTime": {
     "end_time": "2023-09-18T14:26:30.928530Z",
     "start_time": "2023-09-18T14:26:30.914256500Z"
    }
   },
   "id": "fb52c072895971bd"
  },
  {
   "cell_type": "markdown",
   "source": [
    "# numpy.around()函数应用举例"
   ],
   "metadata": {
    "collapsed": false
   },
   "id": "eafce7eade2973b"
  },
  {
   "cell_type": "code",
   "execution_count": 23,
   "outputs": [
    {
     "name": "stdout",
     "output_type": "stream",
     "text": [
      "原数组：\n",
      "[100.    100.5   123.      0.876  76.998]\n",
      "********************\n",
      "舍入后：\n",
      "[100. 100. 123.   1.  77.]\n",
      "[100.  100.5 123.    0.9  77. ]\n",
      "[100. 100. 120.   0.  80.]\n"
     ]
    }
   ],
   "source": [
    "import numpy as np\n",
    "\n",
    "a = np.array([100.0, 100.5, 123, 0.876, 76.998])\n",
    "print('原数组：')\n",
    "print(a)\n",
    "print('*' * 20)\n",
    "print('舍入后：')\n",
    "print(np.around(a))\n",
    "print(np.around(a, decimals=1))\n",
    "print(np.around(a, decimals=-1))"
   ],
   "metadata": {
    "collapsed": false,
    "ExecuteTime": {
     "end_time": "2023-09-18T14:26:53.575318300Z",
     "start_time": "2023-09-18T14:26:53.551679Z"
    }
   },
   "id": "4f2bd53cebcc86e3"
  },
  {
   "cell_type": "markdown",
   "source": [
    "# numpy.floor()应用举例"
   ],
   "metadata": {
    "collapsed": false
   },
   "id": "9baf2ec9de48defd"
  },
  {
   "cell_type": "code",
   "execution_count": 24,
   "outputs": [
    {
     "name": "stdout",
     "output_type": "stream",
     "text": [
      "提供的数组：\n",
      "[-9.999700e+03  1.003335e+05 -2.334020e+04  9.870000e-01  1.088888e+01]\n",
      "********************\n",
      "修改后的数组：\n",
      "[-1.00000e+04  1.00333e+05 -2.33410e+04  0.00000e+00  1.00000e+01]\n"
     ]
    }
   ],
   "source": [
    "import numpy as np\n",
    "\n",
    "s = np.array([-9999.7, 100333.5, -23340.2, 0.987, 10.88888])\n",
    "print('提供的数组：')\n",
    "print(s)\n",
    "print('*' * 20)\n",
    "print('修改后的数组：')\n",
    "print(np.floor(s))"
   ],
   "metadata": {
    "collapsed": false,
    "ExecuteTime": {
     "end_time": "2023-09-18T14:27:12.489460600Z",
     "start_time": "2023-09-18T14:27:12.472460700Z"
    }
   },
   "id": "fa8f5069cf28075c"
  },
  {
   "cell_type": "markdown",
   "source": [
    "# numpy.ceil()应用举例"
   ],
   "metadata": {
    "collapsed": false
   },
   "id": "242b9f71f353cd9"
  },
  {
   "cell_type": "code",
   "execution_count": 25,
   "outputs": [
    {
     "name": "stdout",
     "output_type": "stream",
     "text": [
      "提供的数组：\n",
      "[-100.3       18.98      -0.49999    0.563     10.     ]\n",
      "********************\n",
      "修改后的数组：\n",
      "[-100.   19.   -0.    1.   10.]\n"
     ]
    }
   ],
   "source": [
    "import numpy as np\n",
    "\n",
    "s = np.array([-100.3, 18.98, -0.49999, 0.563, 10])\n",
    "print('提供的数组：')\n",
    "print(s)\n",
    "print('*' * 20)\n",
    "print('修改后的数组：')\n",
    "print(np.ceil(s))"
   ],
   "metadata": {
    "collapsed": false,
    "ExecuteTime": {
     "end_time": "2023-09-18T14:27:28.919506300Z",
     "start_time": "2023-09-18T14:27:28.905507600Z"
    }
   },
   "id": "5d3377a4c8cfde5c"
  },
  {
   "cell_type": "markdown",
   "source": [
    "# 绘制简单图形对象"
   ],
   "metadata": {
    "collapsed": false
   },
   "id": "fbcadb79dc7783e9"
  },
  {
   "cell_type": "code",
   "execution_count": null,
   "outputs": [],
   "source": [],
   "metadata": {
    "collapsed": false
   },
   "id": "63d836a192bf7718"
  }
 ],
 "metadata": {
  "kernelspec": {
   "display_name": "Python 3",
   "language": "python",
   "name": "python3"
  },
  "language_info": {
   "codemirror_mode": {
    "name": "ipython",
    "version": 2
   },
   "file_extension": ".py",
   "mimetype": "text/x-python",
   "name": "python",
   "nbconvert_exporter": "python",
   "pygments_lexer": "ipython2",
   "version": "2.7.6"
  }
 },
 "nbformat": 4,
 "nbformat_minor": 5
}
